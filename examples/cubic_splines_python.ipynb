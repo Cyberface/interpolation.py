{
 "cells": [
  {
   "cell_type": "code",
   "execution_count": 1,
   "metadata": {
    "collapsed": false
   },
   "outputs": [],
   "source": [
    "from numpy import *\n",
    "from IPython.display import display"
   ]
  },
  {
   "cell_type": "code",
   "execution_count": 2,
   "metadata": {
    "collapsed": false
   },
   "outputs": [],
   "source": [
    "from matplotlib.pyplot import *\n",
    "%matplotlib inline"
   ]
  },
  {
   "cell_type": "markdown",
   "metadata": {},
   "source": [
    "# Cubic splines with Python\n",
    "\n",
    "In this notebook, we show how to use the `interpolation` library to interpolate a function using cubic splines."
   ]
  },
  {
   "cell_type": "code",
   "execution_count": 3,
   "metadata": {
    "collapsed": false
   },
   "outputs": [],
   "source": [
    "# we need to import the library first\n",
    "from interpolation import splines"
   ]
  },
  {
   "cell_type": "markdown",
   "metadata": {},
   "source": [
    "## Interpolating a function\n",
    "\n",
    "Our goal here, consists in approximate a function $R^d \\rightarrow R$ given its values on \n",
    "a regularly spaced rectangular grid.\n",
    "\n",
    "We consider the two dimensional function defined by $f(x,y)=sin(\\sqrt{x^2+y^2}/\\pi)/(\\sqrt{x^2+y^2}/\\pi)$ if $(x,y) \\neq (0,0)$ and by $f(0,0)=1$"
   ]
  },
  {
   "cell_type": "code",
   "execution_count": 4,
   "metadata": {
    "collapsed": false
   },
   "outputs": [],
   "source": [
    "from numba import vectorize\n",
    "@vectorize(['double(double, double)'])\n",
    "def f(x,y):\n",
    "    if x==0 and y==0:\n",
    "        out = 1.0\n",
    "    else:\n",
    "        t = sqrt( x**2+y**2 )\n",
    "        out = sin(pi*t)/(pi*t)\n",
    "    return out"
   ]
  },
  {
   "cell_type": "code",
   "execution_count": 5,
   "metadata": {
    "collapsed": false
   },
   "outputs": [
    {
     "name": "stdout",
     "output_type": "stream",
     "text": [
      "Value of f at (0.5,0.5) : 0.358187786013244\n"
     ]
    },
    {
     "data": {
      "text/plain": [
       "[<matplotlib.lines.Line2D at 0x7f09a731ef28>]"
      ]
     },
     "execution_count": 5,
     "metadata": {},
     "output_type": "execute_result"
    },
    {
     "data": {
      "image/png": "[encoded data removed]",
      "text/plain": [
       "<matplotlib.figure.Figure at 0x7f09a731eef0>"
      ]
     },
     "metadata": {},
     "output_type": "display_data"
    }
   ],
   "source": [
    "# Let's try it:\n",
    "\n",
    "# The function f can be evaluated at any point\n",
    "x0 = 0.5\n",
    "y0 = 0.5\n",
    "val = f(x0,y0)\n",
    "print('Value of f at ({},{}) : {}'.format(x0,x0,val))\n",
    "\n",
    "# Or at any list of points\n",
    "x = linspace(-1,1,50)\n",
    "y = linspace(-1,1,50)\n",
    "vals = f(x,y)\n",
    "\n",
    "# Plot\n",
    "plot(x0, val, 'o')\n",
    "plot(x, f(x,y))"
   ]
  },
  {
   "cell_type": "markdown",
   "metadata": {},
   "source": [
    "The grid over which we approximate the function is defined by its boundaries $[a_i, b_i]$ and the number of points $n_i$ in each dimension $i \\in [1,d]$."
   ]
  },
  {
   "cell_type": "markdown",
   "metadata": {},
   "source": [
    "In each dimension $i\\in[1,d]$ the $n_i$ points $(a_i=s^0_i, s^2_i, ..., s^{n_j-1}_i=b_i)$\n",
    "are regularly spaced, meaning that for any $j$, $s^j_i = a_i + j\\frac{b_i-a_i}{n_i-1}$. These points are called *nodes*.\n",
    "\n",
    "For the two dimensional function defined above, we define $[a_1,b_1]=[a_2,b_2]=[-5,5]$ and we use 50 points in each dimension."
   ]
  },
  {
   "cell_type": "code",
   "execution_count": 6,
   "metadata": {
    "collapsed": false
   },
   "outputs": [],
   "source": [
    "# define the approximation space\n",
    "a = [-5.0, -5.0]  # a_1, a_2\n",
    "b = [5.0, 5.0]    # b_1, b_2\n",
    "orders = [15,15]     # n_2, n_2"
   ]
  },
  {
   "cell_type": "markdown",
   "metadata": {},
   "source": [
    "The cartesian product of these nodes is used to approximate the compact state $\\mathcal{S}=[a_1, b_1], ... [a_d, b_d]$, by a finite set of points $S=(s_{i_1,...i_d})_{i_1\\in[1,n_1], ..., i_d\\in[1,n_d]}$. By definition, the point indexed by i_1,...i_d is simply the tuple $(s_{i_1},...s_{i_d})$.\n",
    "\n",
    "In general, this multivariate index is sufficient and it is not needed to list these points one after all. By convention, we list the points as a 2d arrays, where each line corresponds to a point, and where *the last index varies faster* meaning that points are listed like in $s_{00}, s_{01}, s_{02}, s_{10}, s_{11}, s_{12}$.\n",
    "\n",
    "This grid can be constructed using the mlinspace function, which extends the linspace function to multidimensional spaces:"
   ]
  },
  {
   "cell_type": "code",
   "execution_count": 7,
   "metadata": {
    "collapsed": false
   },
   "outputs": [
    {
     "name": "stdout",
     "output_type": "stream",
     "text": [
      "First points:\n",
      "[[-5.         -5.        ]\n",
      " [-5.         -4.28571429]\n",
      " [-5.         -3.57142857]\n",
      " [-5.         -2.85714286]\n",
      " [-5.         -2.14285714]\n",
      " [-5.         -1.42857143]\n",
      " [-5.         -0.71428571]\n",
      " [-5.          0.        ]\n",
      " [-5.          0.71428571]\n",
      " [-5.          1.42857143]]\n"
     ]
    },
    {
     "data": {
      "text/plain": [
       "[<matplotlib.lines.Line2D at 0x7f0998a110b8>]"
      ]
     },
     "execution_count": 7,
     "metadata": {},
     "output_type": "execute_result"
    },
    {
     "data": {
      "image/png": "[encoded data removed]",
      "text/plain": [
       "<matplotlib.figure.Figure at 0x7f0998a32b70>"
      ]
     },
     "metadata": {},
     "output_type": "display_data"
    }
   ],
   "source": [
    "from dolo.numeric.misc import mlinspace\n",
    "\n",
    "list_of_points = mlinspace(a,b,orders)\n",
    "print('First points:')\n",
    "print(list_of_points[:10,:])\n",
    "\n",
    "# optional plot the grid\n",
    "plot(list_of_points[:,0], list_of_points[:,1],'o')\n",
    "\n",
    "\n",
    "# vectorized version\n",
    "#all_points =  [ [x y] for x=linspace(smin[1],smax[1],orders[1]),  y=linspace(smin[2],smax[2],orders[2])] \n",
    "#all_points = vcat(all_points...)\n",
    "#PyPlot.plot(all_points[:,1], all_points[:,2], \"x\", color=\"blue\")"
   ]
  },
  {
   "cell_type": "markdown",
   "metadata": {},
   "source": [
    "The interpolating data is supposed to fit the exact values $v_{i_1, ..., i_d}=f(s_{i_1, ..., i_d})$ of the function on the grid. We compute them below."
   ]
  },
  {
   "cell_type": "code",
   "execution_count": null,
   "metadata": {
    "collapsed": false
   },
   "outputs": [],
   "source": [
    "x_array = list_of_points[:,0]\n",
    "y_array = list_of_points[:,1]\n",
    "vals = f(x_array, y_array)"
   ]
  },
  {
   "cell_type": "markdown",
   "metadata": {},
   "source": [
    "## Interpolation object"
   ]
  },
  {
   "cell_type": "markdown",
   "metadata": {},
   "source": [
    "To intepolate this function, we construct an interpolating object:"
   ]
  },
  {
   "cell_type": "code",
   "execution_count": null,
   "metadata": {
    "collapsed": false
   },
   "outputs": [],
   "source": [
    "from interpolation.splines import CubicSpline\n",
    "interp = CubicSpline(a,b,orders,vals)"
   ]
  },
  {
   "cell_type": "code",
   "execution_count": null,
   "metadata": {
    "collapsed": false
   },
   "outputs": [],
   "source": [
    "# we can evaluate this interpolator at a given point:\n",
    "x0 = array([0.0,0.1])\n",
    "interp(x0)"
   ]
  },
  {
   "cell_type": "code",
   "execution_count": null,
   "metadata": {
    "collapsed": false
   },
   "outputs": [],
   "source": [
    "# to evaluate it many times, it is more efficient to supply an array of points\n",
    "# where each line containt the coordinates of one point\n",
    "vec = linspace(-6.0, 6.0, 100)\n",
    "points = column_stack([ vec*0, vec ])\n",
    "interpolated_values = interp(points)\n",
    "display(\"Array of points\")\n",
    "display((points[:10,:])) # first 10 points\n",
    "display(\"Array of interpolated values\")\n",
    "display(interpolated_values[:10]) # first 10 interpolated values"
   ]
  },
  {
   "cell_type": "markdown",
   "metadata": {},
   "source": [
    "Let's plot the result:"
   ]
  },
  {
   "cell_type": "code",
   "execution_count": null,
   "metadata": {
    "collapsed": false
   },
   "outputs": [],
   "source": [
    "figure()\n",
    "plot(points[:,1], interpolated_values,\"-\",label=\"interpolated values\", color='blue')\n",
    "# plot(points[:,1], f(points[:,0], points[:,1]),\":\", color=\"black\",label=\"true values\")\n",
    "\n",
    "\n",
    "\n",
    "nodes = linspace(a[1], b[1], orders[1])\n",
    "plot(nodes, f(0*nodes,nodes),\"o\", color=\"red\", label=\"nodes\" )\n",
    "\n",
    "# compare with linear\n",
    "from interpolation.splines import LinearSpline\n",
    "plot(points[:,1], LinearSpline(a,b,orders,vals)(points), color='red',linestyle='--' )\n",
    "legend()"
   ]
  },
  {
   "cell_type": "markdown",
   "metadata": {},
   "source": [
    "## Multi splines\n",
    "\n",
    "Sometimes, it is useful, to interpolate several functions at the same points. In that case, the MultiCubicSpline\n",
    "can be used instead of CubicSpline.\n",
    "\n",
    "Let's define $g(x,y) = exp(-x^2-y^2)$\n"
   ]
  },
  {
   "cell_type": "code",
   "execution_count": null,
   "metadata": {
    "collapsed": false
   },
   "outputs": [],
   "source": [
    "# We define the new function and evaluate it on the same set of points\n",
    "g = lambda x,y: exp(-x**2-y**2)  # ne need to vectorize it manually since we use only ufuncs here\n",
    "vals2 = g(x_array, y_array)"
   ]
  },
  {
   "cell_type": "markdown",
   "metadata": {},
   "source": [
    "By convention, the values are given as an array whose first index corresponds to the number of the spline.\n",
    "For this reason, we concatenate the two set of values `vals` and `vals2` by creating a new last dimension.\n",
    "Note that in the resulting array `mvals`, vector values are contiguous in memory (if C-ordered)."
   ]
  },
  {
   "cell_type": "code",
   "execution_count": null,
   "metadata": {
    "collapsed": false
   },
   "outputs": [],
   "source": [
    "mvals = concatenate([vals[:,None], vals2[:,None]],axis=1)"
   ]
  },
  {
   "cell_type": "code",
   "execution_count": null,
   "metadata": {
    "collapsed": false
   },
   "outputs": [],
   "source": [
    "from interpolation.splines import CubicSplines\n",
    "interp = CubicSplines(a,b,orders,mvals)"
   ]
  },
  {
   "cell_type": "markdown",
   "metadata": {},
   "source": [
    "The interpolation is made exactly as before but the returned objects have one more dimension:"
   ]
  },
  {
   "cell_type": "code",
   "execution_count": null,
   "metadata": {
    "collapsed": false
   },
   "outputs": [],
   "source": [
    "interp(x0)  # returns a one dimensional array with two elements instead of a float"
   ]
  },
  {
   "cell_type": "code",
   "execution_count": null,
   "metadata": {
    "collapsed": false
   },
   "outputs": [],
   "source": [
    "# to evaluate it many times, it is more efficient to supply an array of points\n",
    "# where each line containt the coordinates of one point\n",
    "vec = linspace(-6.0, 6.0, 100)\n",
    "points = column_stack([ vec*0, vec ])\n",
    "interpolated_values = interp(points)\n",
    "display(\"Array of points\")\n",
    "display((points[:10,:])) # first 10 points\n",
    "display(points.shape)\n",
    "display(\"Array of interpolated values\")\n",
    "display(interpolated_values[:10]) # first 10 interpolated values\n",
    "display(interpolated_values.shape)"
   ]
  },
  {
   "cell_type": "markdown",
   "metadata": {},
   "source": [
    "# Low level interface (TODO)"
   ]
  },
  {
   "cell_type": "markdown",
   "metadata": {},
   "source": [
    "TODO: explain how basis splines are defined on *knots* and how to directly deal with the spline coefficients."
   ]
  },
  {
   "cell_type": "code",
   "execution_count": null,
   "metadata": {
    "collapsed": false
   },
   "outputs": [],
   "source": [
    "# fit coefficients of the spline (note the size of the matrix ( 15+2 x 15+2 )\n",
    "from interpolation.splines.filter_cubic_splines import filter_coeffs\n",
    "coeffs = filter_coeffs(a,b,orders,vals)\n",
    "display(coeffs.shape)"
   ]
  },
  {
   "cell_type": "code",
   "execution_count": null,
   "metadata": {
    "collapsed": false
   },
   "outputs": [],
   "source": [
    "# cartesian product with 50 points along each dimension\n",
    "fine_grid = mlinspace( [0,0], [3,3], [10,10] )"
   ]
  },
  {
   "cell_type": "code",
   "execution_count": null,
   "metadata": {
    "collapsed": false
   },
   "outputs": [],
   "source": [
    "from interpolation.splines.eval_cubic_splines import vec_eval_cubic_spline\n",
    "\n",
    "# evaluate the spline\n",
    "V = vec_eval_cubic_spline( a, b, orders, coeffs, fine_grid );\n",
    "\n",
    "# evaluate with gradient\n",
    "# V, dV = eval_UC_spline_G( a, b, orders, coeffs, fine_grid );"
   ]
  },
  {
   "cell_type": "code",
   "execution_count": null,
   "metadata": {
    "collapsed": false
   },
   "outputs": [],
   "source": [
    "xm = fine_grid[:,0].reshape((10,10))\n",
    "ym = fine_grid[:,1].reshape((10,10))\n",
    "V_mesh = V.reshape((10,10))\n",
    "contourf(xm,ym,V_mesh,100)\n",
    "colorbar()\n",
    "# add gradient field\n",
    "# see api of quiver at http://matplotlib.org/api/pyplot_api.html\n",
    "# dV_m_1 = dV[:,0].reshape((10,10))\n",
    "# dV_m_2 = dV[:,0].reshape((10,10))\n",
    "#streamplot( linspace(smin[1], smax[1], 50), linspace(smin[1], smax[2], 50), dV_m_1, dV_m_2)\n",
    "# quiver( linspace(0,3, 10), linspace(0,3, 10), dV_m_1, dV_m_2)\n",
    "\n"
   ]
  }
 ],
 "metadata": {
  "kernelspec": {
   "display_name": "Python 3",
   "language": "python",
   "name": "python3"
  },
  "language_info": {
   "codemirror_mode": {
    "name": "ipython",
    "version": 3
   },
   "file_extension": ".py",
   "mimetype": "text/x-python",
   "name": "python",
   "nbconvert_exporter": "python",
   "pygments_lexer": "ipython3",
   "version": "3.4.4"
  }
 },
 "nbformat": 4,
 "nbformat_minor": 0
}
