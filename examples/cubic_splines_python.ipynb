{
 "metadata": {
  "language": "Julia",
  "name": "",
  "signature": "sha256:3e42ed838882d2292c94ec65190847aac0d9dfe06ae289ef0e9f3e5ef4df783e"
 },
 "nbformat": 3,
 "nbformat_minor": 0,
 "worksheets": [
  {
   "cells": [
    {
     "cell_type": "code",
     "collapsed": false,
     "input": [
      "from numpy import *\n",
      "from IPython.display import display"
     ],
     "language": "python",
     "metadata": {},
     "outputs": [],
     "prompt_number": 1
    },
    {
     "cell_type": "code",
     "collapsed": false,
     "input": [
      "from matplotlib.pyplot import *\n",
      "%matplotlib inline"
     ],
     "language": "python",
     "metadata": {},
     "outputs": [],
     "prompt_number": 2
    },
    {
     "cell_type": "markdown",
     "metadata": {},
     "source": [
      "# Cubic splines with Julia\n",
      "\n",
      "In this notebook, we show how to use Julia to interpolate a function using cubic splines. The code and this notebook are available online on [github](https://github.com/EconForge/splines_julia.git)"
     ]
    },
    {
     "cell_type": "code",
     "collapsed": false,
     "input": [
      "# we need to import the library first\n",
      "from interpolation import splines"
     ],
     "language": "python",
     "metadata": {},
     "outputs": [],
     "prompt_number": 3
    },
    {
     "cell_type": "markdown",
     "metadata": {},
     "source": [
      "## Interpolating a function\n",
      "\n",
      "Our goal here, consists in approximate a function $R^d \\rightarrow R$ given its values on \n",
      "a regularly spaced rectangular grid.\n",
      "\n",
      "We consider the two dimensional function defined by $f(x,y)=sin(\\sqrt{x^2+y^2}/\\pi)/(\\sqrt{x^2+y^2}/\\pi)$ if $(x,y) \\neq (0,0)$ and by $f(0,0)=1$"
     ]
    },
    {
     "cell_type": "code",
     "collapsed": false,
     "input": [
      "from numba import vectorize\n",
      "@vectorize(['double(double, double)'])\n",
      "def f(x,y):\n",
      "    if x==0 and y==0:\n",
      "        out = 1.0\n",
      "    else:\n",
      "        t = sqrt( x**2+y**2 )\n",
      "        out = sin(pi*t)/(pi*t)\n",
      "    return out"
     ],
     "language": "python",
     "metadata": {},
     "outputs": [],
     "prompt_number": 4
    },
    {
     "cell_type": "code",
     "collapsed": false,
     "input": [
      "# Let's try it:\n",
      "\n",
      "# The function f can be evaluated at any point\n",
      "x0 = 0.5\n",
      "y0 = 0.5\n",
      "val = f(x0,y0)\n",
      "print('Value of f at ({},{}) : {}'.format(x0,x0,val))\n",
      "\n",
      "# Or at any list of points\n",
      "x = linspace(-1,1,50)\n",
      "y = linspace(-1,1,50)\n",
      "vals = f(x,y)\n",
      "\n",
      "# Plot\n",
      "plot(x0, val, 'o')\n",
      "plot(x, f(x,y))"
     ],
     "language": "python",
     "metadata": {},
     "outputs": [
      {
       "output_type": "stream",
       "stream": "stdout",
       "text": [
        "Value of f at (0.5,0.5) : 0.358187786013\n"
       ]
      },
      {
       "metadata": {},
       "output_type": "pyout",
       "prompt_number": 5,
       "text": [
        "[<matplotlib.lines.Line2D at 0x7f037383ef50>]"
       ]
      },
      {
       "metadata": {},
       "output_type": "display_data",
       "png": "[encoded data removed]",
       "text": [
        "<matplotlib.figure.Figure at 0x7f037383ee50>"
       ]
      }
     ],
     "prompt_number": 5
    },
    {
     "cell_type": "markdown",
     "metadata": {},
     "source": [
      "The grid over which we approximate the function is defined by its boundaries $[a_i, b_i]$ and the number of points $n_i$ in each dimension $i \\in [1,d]$."
     ]
    },
    {
     "cell_type": "markdown",
     "metadata": {},
     "source": [
      "In each dimension $i\\in[1,d]$ the $n_i$ points $(a_i=s^0_i, s^2_i, ..., s^{n_j-1}_i=b_i)$\n",
      "are regularly spaced, meaning that for any $j$, $s^j_i = a_i + j\\frac{b_i-a_i}{n_i-1}$. These points are called *nodes*.\n",
      "\n",
      "For the two dimensional function defined above, we define $[a_1,b_1]=[a_2,b_2]=[-5,5]$ and we use 50 points in each dimension."
     ]
    },
    {
     "cell_type": "code",
     "collapsed": false,
     "input": [
      "# define the approximation space\n",
      "a = [-5.0, -5.0]  # a_1, a_2\n",
      "b = [5.0, 5.0]    # b_1, b_2\n",
      "orders = [15,15]     # n_2, n_2"
     ],
     "language": "python",
     "metadata": {},
     "outputs": [],
     "prompt_number": 6
    },
    {
     "cell_type": "markdown",
     "metadata": {},
     "source": [
      "The cartesian product of these nodes is used to approximate the compact state $\\mathcal{S}=[a_1, b_1], ... [a_d, b_d]$, by a finite set of points $S=(s_{i_1,...i_d})_{i_1\\in[1,n_1], ..., i_d\\in[1,n_d]}$. By definition, the point indexed by i_1,...i_d is simply the tuple $(s_{i_1},...s_{i_d})$.\n",
      "\n",
      "In general, this multivariate index is sufficient and it is not needed to list these points one after all. By convention, we list the points as a 2d arrays, where each line corresponds to a point, and where *the last index varies faster* meaning that points are listed like in $s_{00}, s_{01}, s_{02}, s_{10}, s_{11}, s_{12}$.\n",
      "\n",
      "This grid can be constructed using the mlinspace function, which extends the linspace function to multidimensional spaces:"
     ]
    },
    {
     "cell_type": "code",
     "collapsed": false,
     "input": [
      "from dolo.numeric.misc import mlinspace\n",
      "\n",
      "list_of_points = mlinspace(a,b,orders)\n",
      "print('First points:')\n",
      "print(list_of_points[:10,:])\n",
      "\n",
      "# optional plot the grid\n",
      "plot(list_of_points[:,0], list_of_points[:,1],'o')\n",
      "\n",
      "\n",
      "# vectorized version\n",
      "#all_points =  [ [x y] for x=linspace(smin[1],smax[1],orders[1]),  y=linspace(smin[2],smax[2],orders[2])] \n",
      "#all_points = vcat(all_points...)\n",
      "#PyPlot.plot(all_points[:,1], all_points[:,2], \"x\", color=\"blue\")"
     ],
     "language": "python",
     "metadata": {},
     "outputs": [
      {
       "output_type": "stream",
       "stream": "stdout",
       "text": [
        "First points:\n",
        "[[-5.         -5.        ]\n",
        " [-5.         -4.28571429]\n",
        " [-5.         -3.57142857]\n",
        " [-5.         -2.85714286]\n",
        " [-5.         -2.14285714]\n",
        " [-5.         -1.42857143]\n",
        " [-5.         -0.71428571]\n",
        " [-5.          0.        ]\n",
        " [-5.          0.71428571]\n",
        " [-5.          1.42857143]]\n"
       ]
      },
      {
       "metadata": {},
       "output_type": "pyout",
       "prompt_number": 7,
       "text": [
        "[<matplotlib.lines.Line2D at 0x7f0371636650>]"
       ]
      },
      {
       "metadata": {},
       "output_type": "display_data",
       "png": "[encoded data removed]",
       "text": [
        "<matplotlib.figure.Figure at 0x7f0376fba210>"
       ]
      }
     ],
     "prompt_number": 7
    },
    {
     "cell_type": "markdown",
     "metadata": {},
     "source": [
      "The interpolating data is supposed to fit the exact values $v_{i_1, ..., i_d}=f(s_{i_1, ..., i_d})$ of the function on the grid. We compute them below."
     ]
    },
    {
     "cell_type": "code",
     "collapsed": false,
     "input": [
      "x_array = list_of_points[:,0]\n",
      "y_array = list_of_points[:,1]\n",
      "vals = f(x_array, y_array)"
     ],
     "language": "python",
     "metadata": {},
     "outputs": [],
     "prompt_number": 8
    },
    {
     "cell_type": "markdown",
     "metadata": {},
     "source": [
      "## Interpolation object"
     ]
    },
    {
     "cell_type": "markdown",
     "metadata": {},
     "source": [
      "To intepolate this function, we construct an interpolating object:"
     ]
    },
    {
     "cell_type": "code",
     "collapsed": false,
     "input": [
      "from interpolation.splines import CubicSpline\n",
      "interp = CubicSpline(a,b,orders,vals)"
     ],
     "language": "python",
     "metadata": {},
     "outputs": [],
     "prompt_number": 9
    },
    {
     "cell_type": "code",
     "collapsed": false,
     "input": [
      "# we can evaluate this interpolator at a given point:\n",
      "x0 = array([0.0,0.1])\n",
      "interp(x0)"
     ],
     "language": "python",
     "metadata": {},
     "outputs": [
      {
       "metadata": {},
       "output_type": "pyout",
       "prompt_number": 10,
       "text": [
        "0.980428387366858"
       ]
      }
     ],
     "prompt_number": 10
    },
    {
     "cell_type": "code",
     "collapsed": false,
     "input": [
      "# to evaluate it many times, it is more efficient to supply an array of points\n",
      "# where each line containt the coordinates of one point\n",
      "vec = linspace(-6.0, 6.0, 100)\n",
      "points = column_stack([ vec*0, vec ])\n",
      "interpolated_values = interp(points)\n",
      "display(\"Array of points\")\n",
      "display((points[:10,:])) # first 10 points\n",
      "display(\"Array of interpolated values\")\n",
      "display(interpolated_values[:10]) # first 10 interpolated values"
     ],
     "language": "python",
     "metadata": {},
     "outputs": [
      {
       "metadata": {},
       "output_type": "display_data",
       "text": [
        "'Array of points'"
       ]
      },
      {
       "metadata": {},
       "output_type": "display_data",
       "text": [
        "array([[-0.        , -6.        ],\n",
        "       [-0.        , -5.87878788],\n",
        "       [-0.        , -5.75757576],\n",
        "       [-0.        , -5.63636364],\n",
        "       [-0.        , -5.51515152],\n",
        "       [-0.        , -5.39393939],\n",
        "       [-0.        , -5.27272727],\n",
        "       [-0.        , -5.15151515],\n",
        "       [-0.        , -5.03030303],\n",
        "       [-0.        , -4.90909091]])"
       ]
      },
      {
       "metadata": {},
       "output_type": "display_data",
       "text": [
        "'Array of interpolated values'"
       ]
      },
      {
       "metadata": {},
       "output_type": "display_data",
       "text": [
        "array([-0.1852616 , -0.16280564, -0.14034969, -0.11789374, -0.09543779,\n",
        "       -0.07298184, -0.05052589, -0.02806994, -0.00561399,  0.01668887])"
       ]
      }
     ],
     "prompt_number": 11
    },
    {
     "cell_type": "markdown",
     "metadata": {},
     "source": [
      "Let's plot the result:"
     ]
    },
    {
     "cell_type": "code",
     "collapsed": false,
     "input": [
      "plot(points[:,1], interpolated_values,\"-\",label=\"interpolated values\")\n",
      "plot(points[:,1], f(points[:,0], points[:,1]),\":\", color=\"black\",label=\"true values\")\n",
      "nodes = linspace(a[1], b[1], orders[1])\n",
      "plot(nodes, f(0*nodes,nodes),\"o\", color=\"red\", label=\"nodes\" )\n",
      "legend()"
     ],
     "language": "python",
     "metadata": {},
     "outputs": [
      {
       "metadata": {},
       "output_type": "pyout",
       "prompt_number": 12,
       "text": [
        "<matplotlib.legend.Legend at 0x7f037119d390>"
       ]
      },
      {
       "metadata": {},
       "output_type": "display_data",
       "png": "[encoded data removed]",
       "text": [
        "<matplotlib.figure.Figure at 0x7f03715632d0>"
       ]
      }
     ],
     "prompt_number": 12
    },
    {
     "cell_type": "markdown",
     "metadata": {},
     "source": [
      "## Multi splines\n",
      "\n",
      "Sometimes, it is useful, to interpolate several functions at the same points. In that case, the MultiCubicSpline\n",
      "can be used instead of CubicSpline.\n",
      "\n",
      "Let's define $g(x,y) = exp(-x^2-y^2)$\n"
     ]
    },
    {
     "cell_type": "code",
     "collapsed": false,
     "input": [
      "# We define the new function and evaluate it on the same set of points\n",
      "g = lambda x,y: exp(-x**2-y**2)  # ne need to vectorize it manually since we use only ufuncs here\n",
      "vals2 = g(x_array, y_array)"
     ],
     "language": "python",
     "metadata": {},
     "outputs": [],
     "prompt_number": 13
    },
    {
     "cell_type": "markdown",
     "metadata": {},
     "source": [
      "By convention, the values are given as an array whose first index corresponds to the number of the spline.\n",
      "For this reason, we concatenate the two set of values `vals` and `vals2` by creating a new first dimension."
     ]
    },
    {
     "cell_type": "code",
     "collapsed": false,
     "input": [
      "mvals = row_stack([vals, vals2])"
     ],
     "language": "python",
     "metadata": {},
     "outputs": [],
     "prompt_number": 14
    },
    {
     "cell_type": "code",
     "collapsed": false,
     "input": [
      "from interpolation.splines import MultiCubicSpline\n",
      "interp = MultiCubicSpline(a,b,orders,mvals)"
     ],
     "language": "python",
     "metadata": {},
     "outputs": [],
     "prompt_number": 15
    },
    {
     "cell_type": "markdown",
     "metadata": {},
     "source": [
      "The interpolation is made exactly as before but the returned objects have one more dimension:"
     ]
    },
    {
     "cell_type": "code",
     "collapsed": false,
     "input": [
      "interp(x0)  # returns a one dimensional array with two elements instead of a float"
     ],
     "language": "python",
     "metadata": {},
     "outputs": [
      {
       "metadata": {},
       "output_type": "pyout",
       "prompt_number": 16,
       "text": [
        "array([ 0.98042839,  0.9884649 ])"
       ]
      }
     ],
     "prompt_number": 16
    },
    {
     "cell_type": "code",
     "collapsed": false,
     "input": [
      "# to evaluate it many times, it is more efficient to supply an array of points\n",
      "# where each line containt the coordinates of one point\n",
      "vec = linspace(-6.0, 6.0, 100)\n",
      "points = column_stack([ vec*0, vec ])\n",
      "interpolated_values = interp(points)\n",
      "display(\"Array of points\")\n",
      "display((points[:10,:])) # first 10 points\n",
      "display(points.shape)\n",
      "display(\"Array of interpolated values\")\n",
      "display(interpolated_values[:10]) # first 10 interpolated values\n",
      "display(interpolated_values.shape)"
     ],
     "language": "python",
     "metadata": {},
     "outputs": [
      {
       "metadata": {},
       "output_type": "display_data",
       "text": [
        "'Array of points'"
       ]
      },
      {
       "metadata": {},
       "output_type": "display_data",
       "text": [
        "array([[-0.        , -6.        ],\n",
        "       [-0.        , -5.87878788],\n",
        "       [-0.        , -5.75757576],\n",
        "       [-0.        , -5.63636364],\n",
        "       [-0.        , -5.51515152],\n",
        "       [-0.        , -5.39393939],\n",
        "       [-0.        , -5.27272727],\n",
        "       [-0.        , -5.15151515],\n",
        "       [-0.        , -5.03030303],\n",
        "       [-0.        , -4.90909091]])"
       ]
      },
      {
       "metadata": {},
       "output_type": "display_data",
       "text": [
        "(100, 2)"
       ]
      },
      {
       "metadata": {},
       "output_type": "display_data",
       "text": [
        "'Array of interpolated values'"
       ]
      },
      {
       "metadata": {},
       "output_type": "display_data",
       "text": [
        "array([[ -1.85261596e-01,   4.69322844e-05],\n",
        "       [ -1.62805645e-01,   4.12435244e-05],\n",
        "       [ -1.40349694e-01,   3.55547643e-05],\n",
        "       [ -1.17893743e-01,   2.98660042e-05],\n",
        "       [ -9.54377916e-02,   2.41772442e-05],\n",
        "       [ -7.29818407e-02,   1.84884841e-05],\n",
        "       [ -5.05258897e-02,   1.27997240e-05],\n",
        "       [ -2.80699387e-02,   7.11096397e-06],\n",
        "       [ -5.61398774e-03,   1.42220390e-06],\n",
        "       [  1.66888656e-02,  -4.19742306e-06]])"
       ]
      },
      {
       "metadata": {},
       "output_type": "display_data",
       "text": [
        "(100, 2)"
       ]
      }
     ],
     "prompt_number": 17
    },
    {
     "cell_type": "markdown",
     "metadata": {},
     "source": [
      "# Low level interface (TODO)"
     ]
    },
    {
     "cell_type": "markdown",
     "metadata": {},
     "source": [
      "TODO: explain how basis splines are defined on *knots* and how to directly deal with the spline coefficients."
     ]
    },
    {
     "cell_type": "code",
     "collapsed": false,
     "input": [
      "# fit coefficients of the spline (note the size of the matrix ( 15+2 x 15+2 )\n",
      "from interpolation.splines.filter_cubic_splines import filter_coeffs\n",
      "coeffs = filter_coeffs(a,b,orders,vals)\n",
      "display(coeffs.shape)"
     ],
     "language": "python",
     "metadata": {},
     "outputs": [
      {
       "metadata": {},
       "output_type": "display_data",
       "text": [
        "(17, 17)"
       ]
      }
     ],
     "prompt_number": 18
    },
    {
     "cell_type": "code",
     "collapsed": false,
     "input": [
      "# cartesian product with 50 points along each dimension\n",
      "fine_grid = mlinspace( [0,0], [3,3], [10,10] )"
     ],
     "language": "python",
     "metadata": {},
     "outputs": [],
     "prompt_number": 19
    },
    {
     "cell_type": "code",
     "collapsed": false,
     "input": [
      "from interpolation.splines.eval_cubic_splines import vec_eval_cubic_spline\n",
      "\n",
      "# evaluate the spline\n",
      "V = vec_eval_cubic_spline( a, b, orders, coeffs, fine_grid );\n",
      "\n",
      "# evaluate with gradient\n",
      "# V, dV = eval_UC_spline_G( a, b, orders, coeffs, fine_grid );"
     ],
     "language": "python",
     "metadata": {},
     "outputs": [],
     "prompt_number": 23
    },
    {
     "cell_type": "code",
     "collapsed": false,
     "input": [
      "xm = fine_grid[:,0].reshape((10,10))\n",
      "ym = fine_grid[:,1].reshape((10,10))\n",
      "V_mesh = V.reshape((10,10))\n",
      "contourf(xm,ym,V_mesh,100)\n",
      "colorbar()\n",
      "# add gradient field\n",
      "# see api of quiver at http://matplotlib.org/api/pyplot_api.html\n",
      "# dV_m_1 = dV[:,0].reshape((10,10))\n",
      "# dV_m_2 = dV[:,0].reshape((10,10))\n",
      "#streamplot( linspace(smin[1], smax[1], 50), linspace(smin[1], smax[2], 50), dV_m_1, dV_m_2)\n",
      "# quiver( linspace(0,3, 10), linspace(0,3, 10), dV_m_1, dV_m_2)\n",
      "\n"
     ],
     "language": "python",
     "metadata": {},
     "outputs": [
      {
       "metadata": {},
       "output_type": "pyout",
       "prompt_number": 27,
       "text": [
        "<matplotlib.colorbar.Colorbar instance at 0x7f0370a831b8>"
       ]
      },
      {
       "metadata": {},
       "output_type": "display_data",
       "png": "[encoded data removed]",
       "text": [
        "<matplotlib.figure.Figure at 0x7f0370a22590>"
       ]
      }
     ],
     "prompt_number": 27
    },
    {
     "cell_type": "code",
     "collapsed": false,
     "input": [],
     "language": "python",
     "metadata": {},
     "outputs": []
    }
   ],
   "metadata": {}
  }
 ]
}