{
 "cells": [
  {
   "cell_type": "code",
   "execution_count": 1,
   "metadata": {
    "collapsed": false
   },
   "outputs": [],
   "source": [
    "from numpy import *\n",
    "from IPython.display import display"
   ]
  },
  {
   "cell_type": "code",
   "execution_count": 2,
   "metadata": {
    "collapsed": false
   },
   "outputs": [],
   "source": [
    "from matplotlib.pyplot import *\n",
    "%matplotlib inline"
   ]
  },
  {
   "cell_type": "markdown",
   "metadata": {},
   "source": [
    "# Cubic splines with Python\n",
    "\n",
    "In this notebook, we show how to use the `interpolation` library to interpolate a function using cubic splines."
   ]
  },
  {
   "cell_type": "code",
   "execution_count": 3,
   "metadata": {
    "collapsed": false
   },
   "outputs": [],
   "source": [
    "# we need to import the library first\n",
    "from interpolation import splines"
   ]
  },
  {
   "cell_type": "markdown",
   "metadata": {},
   "source": [
    "## Interpolating a function\n",
    "\n",
    "Our goal here, consists in approximate a function $R^d \\rightarrow R$ given its values on \n",
    "a regularly spaced rectangular grid.\n",
    "\n",
    "We consider the two dimensional function defined by $f(x,y)=sin(\\sqrt{x^2+y^2}/\\pi)/(\\sqrt{x^2+y^2}/\\pi)$ if $(x,y) \\neq (0,0)$ and by $f(0,0)=1$"
   ]
  },
  {
   "cell_type": "code",
   "execution_count": 4,
   "metadata": {
    "collapsed": false
   },
   "outputs": [],
   "source": [
    "from numba import vectorize\n",
    "@vectorize(['double(double, double)'])\n",
    "def f(x,y):\n",
    "    if x==0 and y==0:\n",
    "        out = 1.0\n",
    "    else:\n",
    "        t = sqrt( x**2+y**2 )\n",
    "        out = sin(pi*t)/(pi*t)\n",
    "    return out"
   ]
  },
  {
   "cell_type": "code",
   "execution_count": 5,
   "metadata": {
    "collapsed": false
   },
   "outputs": [
    {
     "name": "stdout",
     "output_type": "stream",
     "text": [
      "Value of f at (0.5,0.5) : 0.358187786013244\n"
     ]
    },
    {
     "data": {
      "text/plain": [
       "[<matplotlib.lines.Line2D at 0x7faff97d9f98>]"
      ]
     },
     "execution_count": 5,
     "metadata": {},
     "output_type": "execute_result"
    },
    {
     "data": {
      "image/png": "[encoded data removed]",
      "text/plain": [
       "<matplotlib.figure.Figure at 0x7faff97d9dd8>"
      ]
     },
     "metadata": {},
     "output_type": "display_data"
    }
   ],
   "source": [
    "# Let's try it:\n",
    "\n",
    "# The function f can be evaluated at any point\n",
    "x0 = 0.5\n",
    "y0 = 0.5\n",
    "val = f(x0,y0)\n",
    "print('Value of f at ({},{}) : {}'.format(x0,x0,val))\n",
    "\n",
    "# Or at any list of points\n",
    "x = linspace(-1,1,50)\n",
    "y = linspace(-1,1,50)\n",
    "vals = f(x,y)\n",
    "\n",
    "# Plot\n",
    "plot(x0, val, 'o')\n",
    "plot(x, f(x,y))"
   ]
  },
  {
   "cell_type": "markdown",
   "metadata": {},
   "source": [
    "The grid over which we approximate the function is defined by its boundaries $[a_i, b_i]$ and the number of points $n_i$ in each dimension $i \\in [1,d]$."
   ]
  },
  {
   "cell_type": "markdown",
   "metadata": {},
   "source": [
    "In each dimension $i\\in[1,d]$ the $n_i$ points $(a_i=s^0_i, s^2_i, ..., s^{n_j-1}_i=b_i)$\n",
    "are regularly spaced, meaning that for any $j$, $s^j_i = a_i + j\\frac{b_i-a_i}{n_i-1}$. These points are called *nodes*.\n",
    "\n",
    "For the two dimensional function defined above, we define $[a_1,b_1]=[a_2,b_2]=[-5,5]$ and we use 50 points in each dimension."
   ]
  },
  {
   "cell_type": "code",
   "execution_count": 6,
   "metadata": {
    "collapsed": false
   },
   "outputs": [],
   "source": [
    "# define the approximation space\n",
    "a = [-5.0, -5.0]  # a_1, a_2\n",
    "b = [5.0, 5.0]    # b_1, b_2\n",
    "orders = [15,15]     # n_2, n_2"
   ]
  },
  {
   "cell_type": "markdown",
   "metadata": {},
   "source": [
    "The cartesian product of these nodes is used to approximate the compact state $\\mathcal{S}=[a_1, b_1], ... [a_d, b_d]$, by a finite set of points $S=(s_{i_1,...i_d})_{i_1\\in[1,n_1], ..., i_d\\in[1,n_d]}$. By definition, the point indexed by i_1,...i_d is simply the tuple $(s_{i_1},...s_{i_d})$.\n",
    "\n",
    "In general, this multivariate index is sufficient and it is not needed to list these points one after all. By convention, we list the points as a 2d arrays, where each line corresponds to a point, and where *the last index varies faster* meaning that points are listed like in $s_{00}, s_{01}, s_{02}, s_{10}, s_{11}, s_{12}$.\n",
    "\n",
    "This grid can be constructed using the mlinspace function, which extends the linspace function to multidimensional spaces:"
   ]
  },
  {
   "cell_type": "code",
   "execution_count": 7,
   "metadata": {
    "collapsed": false
   },
   "outputs": [
    {
     "name": "stdout",
     "output_type": "stream",
     "text": [
      "First points:\n",
      "[[-5.         -5.        ]\n",
      " [-5.         -4.28571429]\n",
      " [-5.         -3.57142857]\n",
      " [-5.         -2.85714286]\n",
      " [-5.         -2.14285714]\n",
      " [-5.         -1.42857143]\n",
      " [-5.         -0.71428571]\n",
      " [-5.          0.        ]\n",
      " [-5.          0.71428571]\n",
      " [-5.          1.42857143]]\n"
     ]
    },
    {
     "data": {
      "text/plain": [
       "[<matplotlib.lines.Line2D at 0x7fafeaed2240>]"
      ]
     },
     "execution_count": 7,
     "metadata": {},
     "output_type": "execute_result"
    },
    {
     "data": {
      "image/png": "[encoded data removed]",
      "text/plain": [
       "<matplotlib.figure.Figure at 0x7fafecfb94e0>"
      ]
     },
     "metadata": {},
     "output_type": "display_data"
    }
   ],
   "source": [
    "from dolo.numeric.misc import mlinspace\n",
    "\n",
    "list_of_points = mlinspace(a,b,orders)\n",
    "print('First points:')\n",
    "print(list_of_points[:10,:])\n",
    "\n",
    "# optional plot the grid\n",
    "plot(list_of_points[:,0], list_of_points[:,1],'o')\n",
    "\n",
    "\n",
    "# vectorized version\n",
    "#all_points =  [ [x y] for x=linspace(smin[1],smax[1],orders[1]),  y=linspace(smin[2],smax[2],orders[2])] \n",
    "#all_points = vcat(all_points...)\n",
    "#PyPlot.plot(all_points[:,1], all_points[:,2], \"x\", color=\"blue\")"
   ]
  },
  {
   "cell_type": "markdown",
   "metadata": {},
   "source": [
    "The interpolating data is supposed to fit the exact values $v_{i_1, ..., i_d}=f(s_{i_1, ..., i_d})$ of the function on the grid. We compute them below."
   ]
  },
  {
   "cell_type": "code",
   "execution_count": 8,
   "metadata": {
    "collapsed": false
   },
   "outputs": [],
   "source": [
    "x_array = list_of_points[:,0]\n",
    "y_array = list_of_points[:,1]\n",
    "vals = f(x_array, y_array)"
   ]
  },
  {
   "cell_type": "markdown",
   "metadata": {},
   "source": [
    "## Interpolation object"
   ]
  },
  {
   "cell_type": "markdown",
   "metadata": {},
   "source": [
    "To intepolate this function, we construct an interpolating object:"
   ]
  },
  {
   "cell_type": "code",
   "execution_count": 9,
   "metadata": {
    "collapsed": false
   },
   "outputs": [],
   "source": [
    "from interpolation.splines import CubicSpline\n",
    "interp = CubicSpline(a,b,orders,vals)"
   ]
  },
  {
   "cell_type": "code",
   "execution_count": 10,
   "metadata": {
    "collapsed": false
   },
   "outputs": [
    {
     "data": {
      "text/plain": [
       "0.980428387366858"
      ]
     },
     "execution_count": 10,
     "metadata": {},
     "output_type": "execute_result"
    }
   ],
   "source": [
    "# we can evaluate this interpolator at a given point:\n",
    "x0 = array([0.0,0.1])\n",
    "interp(x0)"
   ]
  },
  {
   "cell_type": "code",
   "execution_count": 11,
   "metadata": {
    "collapsed": false
   },
   "outputs": [
    {
     "data": {
      "text/plain": [
       "'Array of points'"
      ]
     },
     "metadata": {},
     "output_type": "display_data"
    },
    {
     "data": {
      "text/plain": [
       "array([[-0.        , -6.        ],\n",
       "       [-0.        , -5.87878788],\n",
       "       [-0.        , -5.75757576],\n",
       "       [-0.        , -5.63636364],\n",
       "       [-0.        , -5.51515152],\n",
       "       [-0.        , -5.39393939],\n",
       "       [-0.        , -5.27272727],\n",
       "       [-0.        , -5.15151515],\n",
       "       [-0.        , -5.03030303],\n",
       "       [-0.        , -4.90909091]])"
      ]
     },
     "metadata": {},
     "output_type": "display_data"
    },
    {
     "data": {
      "text/plain": [
       "'Array of interpolated values'"
      ]
     },
     "metadata": {},
     "output_type": "display_data"
    },
    {
     "data": {
      "text/plain": [
       "array([-0.1852616 , -0.16280564, -0.14034969, -0.11789374, -0.09543779,\n",
       "       -0.07298184, -0.05052589, -0.02806994, -0.00561399,  0.01668887])"
      ]
     },
     "metadata": {},
     "output_type": "display_data"
    }
   ],
   "source": [
    "# to evaluate it many times, it is more efficient to supply an array of points\n",
    "# where each line containt the coordinates of one point\n",
    "vec = linspace(-6.0, 6.0, 100)\n",
    "points = column_stack([ vec*0, vec ])\n",
    "interpolated_values = interp(points)\n",
    "display(\"Array of points\")\n",
    "display((points[:10,:])) # first 10 points\n",
    "display(\"Array of interpolated values\")\n",
    "display(interpolated_values[:10]) # first 10 interpolated values"
   ]
  },
  {
   "cell_type": "markdown",
   "metadata": {},
   "source": [
    "Let's plot the result:"
   ]
  },
  {
   "cell_type": "code",
   "execution_count": 12,
   "metadata": {
    "collapsed": false
   },
   "outputs": [
    {
     "name": "stdout",
     "output_type": "stream",
     "text": [
      "Setting\n",
      "[15 15]\n",
      "(15, 15)\n"
     ]
    },
    {
     "data": {
      "text/plain": [
       "<matplotlib.legend.Legend at 0x7fafeac59240>"
      ]
     },
     "execution_count": 12,
     "metadata": {},
     "output_type": "execute_result"
    },
    {
     "data": {
      "image/png": "[encoded data removed]",
      "text/plain": [
       "<matplotlib.figure.Figure at 0x7fafea137a90>"
      ]
     },
     "metadata": {},
     "output_type": "display_data"
    }
   ],
   "source": [
    "figure()\n",
    "plot(points[:,1], interpolated_values,\"-\",label=\"interpolated values\", color='blue')\n",
    "# plot(points[:,1], f(points[:,0], points[:,1]),\":\", color=\"black\",label=\"true values\")\n",
    "\n",
    "\n",
    "\n",
    "nodes = linspace(a[1], b[1], orders[1])\n",
    "plot(nodes, f(0*nodes,nodes),\"o\", color=\"red\", label=\"nodes\" )\n",
    "\n",
    "# compare with linear\n",
    "from interpolation.splines import LinearSpline\n",
    "plot(points[:,1], LinearSpline(a,b,orders,vals)(points), color='red',linestyle='--' )\n",
    "legend()"
   ]
  },
  {
   "cell_type": "markdown",
   "metadata": {},
   "source": [
    "## Multi splines\n",
    "\n",
    "Sometimes, it is useful, to interpolate several functions at the same points. In that case, the MultiCubicSpline\n",
    "can be used instead of CubicSpline.\n",
    "\n",
    "Let's define $g(x,y) = exp(-x^2-y^2)$\n"
   ]
  },
  {
   "cell_type": "code",
   "execution_count": 13,
   "metadata": {
    "collapsed": false
   },
   "outputs": [],
   "source": [
    "# We define the new function and evaluate it on the same set of points\n",
    "g = lambda x,y: exp(-x**2-y**2)  # ne need to vectorize it manually since we use only ufuncs here\n",
    "vals2 = g(x_array, y_array)"
   ]
  },
  {
   "cell_type": "markdown",
   "metadata": {},
   "source": [
    "By convention, the values are given as an array whose first index corresponds to the number of the spline.\n",
    "For this reason, we concatenate the two set of values `vals` and `vals2` by creating a new last dimension.\n",
    "Note that in the resulting array `mvals`, vector values are contiguous in memory (if C-ordered)."
   ]
  },
  {
   "cell_type": "code",
   "execution_count": 14,
   "metadata": {
    "collapsed": false
   },
   "outputs": [],
   "source": [
    "mvals = concatenate([vals[:,None], vals2[:,None]],axis=1)"
   ]
  },
  {
   "cell_type": "code",
   "execution_count": 15,
   "metadata": {
    "collapsed": false
   },
   "outputs": [
    {
     "name": "stdout",
     "output_type": "stream",
     "text": [
      "ORders\n",
      "[15 15]\n",
      "(15, 15, 2)\n"
     ]
    }
   ],
   "source": [
    "from interpolation.splines import CubicSplines\n",
    "interp = CubicSplines(a,b,orders,mvals)"
   ]
  },
  {
   "cell_type": "markdown",
   "metadata": {},
   "source": [
    "The interpolation is made exactly as before but the returned objects have one more dimension:"
   ]
  },
  {
   "cell_type": "code",
   "execution_count": 16,
   "metadata": {
    "collapsed": false
   },
   "outputs": [
    {
     "data": {
      "text/plain": [
       "array([ 0.98042839,  0.9884649 ])"
      ]
     },
     "execution_count": 16,
     "metadata": {},
     "output_type": "execute_result"
    }
   ],
   "source": [
    "interp(x0)  # returns a one dimensional array with two elements instead of a float"
   ]
  },
  {
   "cell_type": "code",
   "execution_count": 17,
   "metadata": {
    "collapsed": false
   },
   "outputs": [
    {
     "data": {
      "text/plain": [
       "'Array of points'"
      ]
     },
     "metadata": {},
     "output_type": "display_data"
    },
    {
     "data": {
      "text/plain": [
       "array([[-0.        , -6.        ],\n",
       "       [-0.        , -5.87878788],\n",
       "       [-0.        , -5.75757576],\n",
       "       [-0.        , -5.63636364],\n",
       "       [-0.        , -5.51515152],\n",
       "       [-0.        , -5.39393939],\n",
       "       [-0.        , -5.27272727],\n",
       "       [-0.        , -5.15151515],\n",
       "       [-0.        , -5.03030303],\n",
       "       [-0.        , -4.90909091]])"
      ]
     },
     "metadata": {},
     "output_type": "display_data"
    },
    {
     "data": {
      "text/plain": [
       "(100, 2)"
      ]
     },
     "metadata": {},
     "output_type": "display_data"
    },
    {
     "data": {
      "text/plain": [
       "'Array of interpolated values'"
      ]
     },
     "metadata": {},
     "output_type": "display_data"
    },
    {
     "data": {
      "text/plain": [
       "array([[ -1.85261596e-01,   4.69322844e-05],\n",
       "       [ -1.62805645e-01,   4.12435244e-05],\n",
       "       [ -1.40349694e-01,   3.55547643e-05],\n",
       "       [ -1.17893743e-01,   2.98660042e-05],\n",
       "       [ -9.54377916e-02,   2.41772442e-05],\n",
       "       [ -7.29818407e-02,   1.84884841e-05],\n",
       "       [ -5.05258897e-02,   1.27997240e-05],\n",
       "       [ -2.80699387e-02,   7.11096397e-06],\n",
       "       [ -5.61398774e-03,   1.42220390e-06],\n",
       "       [  1.66888656e-02,  -4.19742306e-06]])"
      ]
     },
     "metadata": {},
     "output_type": "display_data"
    },
    {
     "data": {
      "text/plain": [
       "(100, 2)"
      ]
     },
     "metadata": {},
     "output_type": "display_data"
    }
   ],
   "source": [
    "# to evaluate it many times, it is more efficient to supply an array of points\n",
    "# where each line containt the coordinates of one point\n",
    "vec = linspace(-6.0, 6.0, 100)\n",
    "points = column_stack([ vec*0, vec ])\n",
    "interpolated_values = interp(points)\n",
    "display(\"Array of points\")\n",
    "display((points[:10,:])) # first 10 points\n",
    "display(points.shape)\n",
    "display(\"Array of interpolated values\")\n",
    "display(interpolated_values[:10]) # first 10 interpolated values\n",
    "display(interpolated_values.shape)"
   ]
  },
  {
   "cell_type": "markdown",
   "metadata": {},
   "source": [
    "# Low level interface (TODO)"
   ]
  },
  {
   "cell_type": "markdown",
   "metadata": {},
   "source": [
    "TODO: explain how basis splines are defined on *knots* and how to directly deal with the spline coefficients."
   ]
  },
  {
   "cell_type": "code",
   "execution_count": 18,
   "metadata": {
    "collapsed": false
   },
   "outputs": [
    {
     "data": {
      "text/plain": [
       "(17, 17)"
      ]
     },
     "metadata": {},
     "output_type": "display_data"
    }
   ],
   "source": [
    "# fit coefficients of the spline (note the size of the matrix ( 15+2 x 15+2 )\n",
    "from interpolation.splines.filter_cubic import filter_coeffs\n",
    "coeffs = filter_coeffs(a,b,orders,vals)\n",
    "display(coeffs.shape)"
   ]
  },
  {
   "cell_type": "code",
   "execution_count": 19,
   "metadata": {
    "collapsed": false
   },
   "outputs": [],
   "source": [
    "# cartesian product with 50 points along each dimension\n",
    "fine_grid = mlinspace( [0,0], [3,3], [10,10] )"
   ]
  },
  {
   "cell_type": "code",
   "execution_count": 22,
   "metadata": {
    "collapsed": false
   },
   "outputs": [],
   "source": [
    "from interpolation.splines.eval_cubic import vec_eval_cubic_spline, vec_eval_cubic_splines_G\n",
    "\n",
    "# evaluate the spline\n",
    "V = vec_eval_cubic_spline( a, b, orders, coeffs, fine_grid );\n",
    "\n",
    "# evaluate with gradient\n",
    "V, dV = vec_eval_cubic_splines_G( a, b, orders, coeffs[...,None], fine_grid );\n",
    "V = V[:,0]\n",
    "dV = dV[:,:,0]"
   ]
  },
  {
   "cell_type": "code",
   "execution_count": 30,
   "metadata": {
    "collapsed": false
   },
   "outputs": [
    {
     "data": {
      "text/plain": [
       "(10, 10)"
      ]
     },
     "execution_count": 30,
     "metadata": {},
     "output_type": "execute_result"
    }
   ],
   "source": [
    "dV_m_1.shape"
   ]
  },
  {
   "cell_type": "code",
   "execution_count": 32,
   "metadata": {
    "collapsed": false
   },
   "outputs": [
    {
     "data": {
      "text/plain": [
       "<matplotlib.quiver.Quiver at 0x7fafea97fb00>"
      ]
     },
     "execution_count": 32,
     "metadata": {},
     "output_type": "execute_result"
    },
    {
     "data": {
      "image/png": "[encoded data removed]",
      "text/plain": [
       "<matplotlib.figure.Figure at 0x7fafe8f62c88>"
      ]
     },
     "metadata": {},
     "output_type": "display_data"
    }
   ],
   "source": [
    "xm = fine_grid[:,0].reshape((10,10))\n",
    "ym = fine_grid[:,1].reshape((10,10))\n",
    "V_mesh = V.reshape((10,10))\n",
    "contourf(xm,ym,V_mesh,100)\n",
    "colorbar()\n",
    "# add gradient field\n",
    "# see api of quiver at http://matplotlib.org/api/pyplot_api.html\n",
    "dV_m_1 = dV[:,0].reshape((10,10))\n",
    "dV_m_2 = dV[:,1].reshape((10,10))\n",
    "streamplot( linspace(a[0], a[0], 10), linspace(b[1], b[1], 10), dV_m_1, dV_m_2)\n",
    "quiver( linspace(0,3, 10), linspace(0,3, 10), dV_m_1, dV_m_2)\n"
   ]
  }
 ],
 "metadata": {
  "kernelspec": {
   "display_name": "Python 3",
   "language": "python",
   "name": "python3"
  },
  "language_info": {
   "codemirror_mode": {
    "name": "ipython",
    "version": 3
   },
   "file_extension": ".py",
   "mimetype": "text/x-python",
   "name": "python",
   "nbconvert_exporter": "python",
   "pygments_lexer": "ipython3",
   "version": "3.4.4"
  }
 },
 "nbformat": 4,
 "nbformat_minor": 0
}
